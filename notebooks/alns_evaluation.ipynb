{
 "cells": [
  {
   "cell_type": "code",
   "execution_count": 84,
   "metadata": {
    "collapsed": false,
    "pycharm": {
     "name": "#%%\n"
    }
   },
   "outputs": [],
   "source": [
    "#import os\n",
    "#import sys\n",
    "#from pathlib import Path\n",
    "#sys.path.append(str(Path(__file__).parent.parent))\n"
   ]
  },
  {
   "cell_type": "code",
   "execution_count": 1,
   "metadata": {
    "collapsed": false,
    "pycharm": {
     "name": "#%%\n"
    }
   },
   "outputs": [],
   "source": [
    "import os\n",
    "import sys\n",
    "module_path = os.path.abspath(os.path.join('..'))\n",
    "if module_path not in sys.path:\n",
    "    sys.path.append(module_path)"
   ]
  },
  {
   "cell_type": "code",
   "execution_count": 2,
   "metadata": {
    "collapsed": false,
    "pycharm": {
     "name": "#%%\n"
    }
   },
   "outputs": [],
   "source": [
    "from alns.rl.hybrid_agent import HybridAgent\n",
    "import pandas as pd\n",
    "import matplotlib.pyplot as plt\n",
    "import seaborn as sns\n",
    "import numpy as np\n",
    "import scipy as sp\n",
    "\n",
    "from experiment_storage.file_paths import FilePaths\n",
    "from experiment_storage.storage import EvaluationStorage\n",
    "\n",
    "\n",
    "# all_exp_ids = ['C101200_varinstsizeTSP', 'R101200_varinstsizeTSP', 'O101200_varinstsizeTSP',\n",
    "#               'C101200_varinstsizeCVRP', 'R101200_varinstsizeCVRP', 'O101200_varinstsizeCVRP',\n",
    "#               'C101200_varinstsizeVRPTW', 'R101200_varinstsizeVRPTW', 'O101200_varinstsizeVRPTW',\n",
    "#               'C101200_varinstsizeHVRP', 'R101200_varinstsizeHVRP', 'O101200_varinstsizeHVRP',\n",
    "#               'C101200_varinstsizeLRP', 'R101200_varinstsizeLRP', 'O101200_varinstsizeLRP']\n",
    "\n",
    "# all_exp_ids = ['O101200_varinstsizeTSP',\n",
    "#               'O101200_varinstsizeCVRP',\n",
    "#               'O101200_varinstsizeVRPTW',\n",
    "#               'O101200_varinstsizeHVRP',\n",
    "#               'O101200_varinstsizeLRP']\n",
    "\n",
    "\n",
    "# experiment result analysis 2023-7-24:\n",
    "all_exp_ids = ['O101200_diffinitcwnoiseTSP', 'O101200_diffinitcwnoiseCVRP', 'O101200_diffinitcwnoiseHVRP', 'O101200_diffinitcwnoiseVRPTW', 'O101200_diffinitcwnoiseLRP',\n",
    "               'O101200_diffinitrandTSP', 'O101200_diffinitrandCVRP', 'O101200_diffinitrandHVRP', 'O101200_diffinitrandVRPTW', 'O101200_diffinitrandLRP']\n",
    "\n",
    "\n",
    "# parent_dir = \"/Users/vdarvariu/experiment_data/ates\"\n",
    "#parent_dir = '/Users/shunee/github/ATES2022/experiment_data'\n",
    "parent_dir = '/Users/shunee/github/ATES2022/all_variants_proportional_tours'\n",
    "\n",
    "\n",
    "fp_out = FilePaths(parent_dir, \"aggregate\", setup_directories=True)\n",
    "\n",
    "# filter_agent = [HybridAgent.algorithm_name]\n",
    "filter_agent = None\n"
   ]
  },
  {
   "cell_type": "markdown",
   "metadata": {
    "collapsed": false,
    "pycharm": {
     "name": "#%% md\n"
    }
   },
   "source": [
    "# Final test set results"
   ]
  },
  {
   "cell_type": "code",
   "execution_count": 3,
   "metadata": {
    "collapsed": false,
    "pycharm": {
     "name": "#%%\n"
    }
   },
   "outputs": [],
   "source": [
    "def compute_ci(data, confidence=0.95):\n",
    "    a = np.array(data)\n",
    "    n = len(a)\n",
    "    se = sp.stats.sem(a)\n",
    "    h = se * sp.stats.t.ppf((1 + confidence) / 2., n-1)\n",
    "    return h\n",
    "\n",
    "def get_results_table(storage, exp_id):\n",
    "    results = storage.get_evaluation_data(exp_id, task_type=\"alns\")\n",
    "    if filter_agent is not None:\n",
    "        results = [r for r in results if r[\"algorithm\"] in filter_agent]\n",
    "\n",
    "    rows_df = pd.DataFrame(results)\n",
    "    print(rows_df)\n",
    "    pivot = pd.pivot_table(rows_df, values='obj_min', columns=[\"algorithm\"], index=[\"cust_number\"]).reset_index()\n",
    "    # pivot[\"win_dqn_crw\"] = pivot[\"dqnprob\"] < pivot[\"classicrw\"]\n",
    "    # pivot.sort_index(axis=1, inplace=True)\n",
    "    pivot = pd.DataFrame(pivot.to_records()).reset_index(drop=True)\n",
    "    pivot = pivot[[\"cust_number\", \"randommdp\", \"classicrw\", \"dqn\", \"dqnprob\", \"hybrid\", \"vrwmdp\"]]\n",
    "    return pivot"
   ]
  },
  {
   "cell_type": "code",
   "execution_count": 4,
   "metadata": {},
   "outputs": [
    {
     "name": "stdout",
     "output_type": "stream",
     "text": [
      "====================\n",
      "O101200_diffinitcwnoiseTSP\n",
      "====================\n"
     ]
    },
    {
     "ename": "KeyError",
     "evalue": "'obj_min'",
     "output_type": "error",
     "traceback": [
      "\u001B[0;31m---------------------------------------------------------------------------\u001B[0m",
      "\u001B[0;31mKeyError\u001B[0m                                  Traceback (most recent call last)",
      "\u001B[1;32m/Users/shunee/github/ATES2022/notebooks/alns_evaluation.ipynb Cell 6\u001B[0m in \u001B[0;36m<cell line: 1>\u001B[0;34m()\u001B[0m\n\u001B[1;32m      <a href='vscode-notebook-cell:/Users/shunee/github/ATES2022/notebooks/alns_evaluation.ipynb#X14sZmlsZQ%3D%3D?line=5'>6</a>\u001B[0m storage \u001B[39m=\u001B[39m EvaluationStorage(fp_in)\n\u001B[1;32m      <a href='vscode-notebook-cell:/Users/shunee/github/ATES2022/notebooks/alns_evaluation.ipynb#X14sZmlsZQ%3D%3D?line=6'>7</a>\u001B[0m \u001B[39m# print(storage.retrieve_optimal_hyperparams(exp_id, False, task_type=\"tune\", fp_in=fp_in))\u001B[39;00m\n\u001B[0;32m----> <a href='vscode-notebook-cell:/Users/shunee/github/ATES2022/notebooks/alns_evaluation.ipynb#X14sZmlsZQ%3D%3D?line=7'>8</a>\u001B[0m results_table \u001B[39m=\u001B[39m get_results_table(storage, exp_id)\n\u001B[1;32m     <a href='vscode-notebook-cell:/Users/shunee/github/ATES2022/notebooks/alns_evaluation.ipynb#X14sZmlsZQ%3D%3D?line=9'>10</a>\u001B[0m pd\u001B[39m.\u001B[39mset_option(\u001B[39m'\u001B[39m\u001B[39mdisplay.max_columns\u001B[39m\u001B[39m'\u001B[39m, \u001B[39mNone\u001B[39;00m)\n\u001B[1;32m     <a href='vscode-notebook-cell:/Users/shunee/github/ATES2022/notebooks/alns_evaluation.ipynb#X14sZmlsZQ%3D%3D?line=10'>11</a>\u001B[0m pd\u001B[39m.\u001B[39mset_option(\u001B[39m'\u001B[39m\u001B[39mdisplay.width\u001B[39m\u001B[39m'\u001B[39m, \u001B[39m1000\u001B[39m)\n",
      "\u001B[1;32m/Users/shunee/github/ATES2022/notebooks/alns_evaluation.ipynb Cell 6\u001B[0m in \u001B[0;36mget_results_table\u001B[0;34m(storage, exp_id)\u001B[0m\n\u001B[1;32m     <a href='vscode-notebook-cell:/Users/shunee/github/ATES2022/notebooks/alns_evaluation.ipynb#X14sZmlsZQ%3D%3D?line=12'>13</a>\u001B[0m rows_df \u001B[39m=\u001B[39m pd\u001B[39m.\u001B[39mDataFrame(results)\n\u001B[1;32m     <a href='vscode-notebook-cell:/Users/shunee/github/ATES2022/notebooks/alns_evaluation.ipynb#X14sZmlsZQ%3D%3D?line=13'>14</a>\u001B[0m \u001B[39m# print(rows_df)\u001B[39;00m\n\u001B[0;32m---> <a href='vscode-notebook-cell:/Users/shunee/github/ATES2022/notebooks/alns_evaluation.ipynb#X14sZmlsZQ%3D%3D?line=14'>15</a>\u001B[0m pivot \u001B[39m=\u001B[39m pd\u001B[39m.\u001B[39;49mpivot_table(rows_df, values\u001B[39m=\u001B[39;49m\u001B[39m'\u001B[39;49m\u001B[39mobj_min\u001B[39;49m\u001B[39m'\u001B[39;49m, columns\u001B[39m=\u001B[39;49m[\u001B[39m\"\u001B[39;49m\u001B[39malgorithm\u001B[39;49m\u001B[39m\"\u001B[39;49m], index\u001B[39m=\u001B[39;49m[\u001B[39m\"\u001B[39;49m\u001B[39mcust_number\u001B[39;49m\u001B[39m\"\u001B[39;49m])\u001B[39m.\u001B[39mreset_index()\n\u001B[1;32m     <a href='vscode-notebook-cell:/Users/shunee/github/ATES2022/notebooks/alns_evaluation.ipynb#X14sZmlsZQ%3D%3D?line=15'>16</a>\u001B[0m \u001B[39m# pivot[\"win_dqn_crw\"] = pivot[\"dqnprob\"] < pivot[\"classicrw\"]\u001B[39;00m\n\u001B[1;32m     <a href='vscode-notebook-cell:/Users/shunee/github/ATES2022/notebooks/alns_evaluation.ipynb#X14sZmlsZQ%3D%3D?line=16'>17</a>\u001B[0m \u001B[39m# pivot.sort_index(axis=1, inplace=True)\u001B[39;00m\n\u001B[1;32m     <a href='vscode-notebook-cell:/Users/shunee/github/ATES2022/notebooks/alns_evaluation.ipynb#X14sZmlsZQ%3D%3D?line=17'>18</a>\u001B[0m pivot \u001B[39m=\u001B[39m pd\u001B[39m.\u001B[39mDataFrame(pivot\u001B[39m.\u001B[39mto_records())\u001B[39m.\u001B[39mreset_index(drop\u001B[39m=\u001B[39m\u001B[39mTrue\u001B[39;00m)\n",
      "File \u001B[0;32m/Library/Frameworks/Python.framework/Versions/3.8/lib/python3.8/site-packages/pandas/core/reshape/pivot.py:97\u001B[0m, in \u001B[0;36mpivot_table\u001B[0;34m(data, values, index, columns, aggfunc, fill_value, margins, dropna, margins_name, observed, sort)\u001B[0m\n\u001B[1;32m     94\u001B[0m     table \u001B[39m=\u001B[39m concat(pieces, keys\u001B[39m=\u001B[39mkeys, axis\u001B[39m=\u001B[39m\u001B[39m1\u001B[39m)\n\u001B[1;32m     95\u001B[0m     \u001B[39mreturn\u001B[39;00m table\u001B[39m.\u001B[39m__finalize__(data, method\u001B[39m=\u001B[39m\u001B[39m\"\u001B[39m\u001B[39mpivot_table\u001B[39m\u001B[39m\"\u001B[39m)\n\u001B[0;32m---> 97\u001B[0m table \u001B[39m=\u001B[39m __internal_pivot_table(\n\u001B[1;32m     98\u001B[0m     data,\n\u001B[1;32m     99\u001B[0m     values,\n\u001B[1;32m    100\u001B[0m     index,\n\u001B[1;32m    101\u001B[0m     columns,\n\u001B[1;32m    102\u001B[0m     aggfunc,\n\u001B[1;32m    103\u001B[0m     fill_value,\n\u001B[1;32m    104\u001B[0m     margins,\n\u001B[1;32m    105\u001B[0m     dropna,\n\u001B[1;32m    106\u001B[0m     margins_name,\n\u001B[1;32m    107\u001B[0m     observed,\n\u001B[1;32m    108\u001B[0m     sort,\n\u001B[1;32m    109\u001B[0m )\n\u001B[1;32m    110\u001B[0m \u001B[39mreturn\u001B[39;00m table\u001B[39m.\u001B[39m__finalize__(data, method\u001B[39m=\u001B[39m\u001B[39m\"\u001B[39m\u001B[39mpivot_table\u001B[39m\u001B[39m\"\u001B[39m)\n",
      "File \u001B[0;32m/Library/Frameworks/Python.framework/Versions/3.8/lib/python3.8/site-packages/pandas/core/reshape/pivot.py:143\u001B[0m, in \u001B[0;36m__internal_pivot_table\u001B[0;34m(data, values, index, columns, aggfunc, fill_value, margins, dropna, margins_name, observed, sort)\u001B[0m\n\u001B[1;32m    141\u001B[0m \u001B[39mfor\u001B[39;00m i \u001B[39min\u001B[39;00m values:\n\u001B[1;32m    142\u001B[0m     \u001B[39mif\u001B[39;00m i \u001B[39mnot\u001B[39;00m \u001B[39min\u001B[39;00m data:\n\u001B[0;32m--> 143\u001B[0m         \u001B[39mraise\u001B[39;00m \u001B[39mKeyError\u001B[39;00m(i)\n\u001B[1;32m    145\u001B[0m to_filter \u001B[39m=\u001B[39m []\n\u001B[1;32m    146\u001B[0m \u001B[39mfor\u001B[39;00m x \u001B[39min\u001B[39;00m keys \u001B[39m+\u001B[39m values:\n",
      "\u001B[0;31mKeyError\u001B[0m: 'obj_min'"
     ]
    }
   ],
   "source": [
    "for exp_id in all_exp_ids:\n",
    "    print(\"=\" * 20)\n",
    "    print(exp_id)\n",
    "    print(\"=\" * 20)\n",
    "    fp_in = FilePaths(parent_dir, exp_id, setup_directories=False)\n",
    "    storage = EvaluationStorage(fp_in)\n",
    "    # print(storage.retrieve_optimal_hyperparams(exp_id, False, task_type=\"tune\", fp_in=fp_in))\n",
    "    results_table = get_results_table(storage, exp_id)\n",
    "\n",
    "    pd.set_option('display.max_columns', None)\n",
    "    pd.set_option('display.width', 1000)\n",
    "    print(results_table)\n",
    "    print()"
   ]
  },
  {
   "cell_type": "code",
   "execution_count": 99,
   "metadata": {
    "collapsed": false,
    "pycharm": {
     "name": "#%%\n"
    }
   },
   "outputs": [
    {
     "name": "stdout",
     "output_type": "stream",
     "text": [
      "====================\n",
      "C101200_varinstsizeTSP\n",
      "====================\n",
      "   cust_number   randommdp   classicrw         dqn     dqnprob      hybrid      vrwmdp\n",
      "0           20  258.041645  258.442684  257.444458  245.685564  245.575343  243.189029\n",
      "1           30  317.569630  317.461173  302.939433  283.396845  283.415783  281.088922\n",
      "2           40  467.378461  468.450855  443.740142  404.248988  402.132615  395.985129\n",
      "3           50  528.940827  524.278594  464.311450  430.778167  428.980487  423.130617\n",
      "\n",
      "====================\n",
      "R101200_varinstsizeTSP\n",
      "====================\n",
      "   cust_number   randommdp   classicrw         dqn     dqnprob      hybrid      vrwmdp\n",
      "0           20  413.797585  413.142049  403.478867  391.980225  392.887455  391.590366\n",
      "1           30  525.373547  524.894007  497.937425  481.686690  480.741590  477.880920\n",
      "2           40  667.630894  670.060435  622.078157  599.857880  597.025006  594.887419\n",
      "3           50  771.795954  765.061984  683.514780  660.261310  653.807131  654.229096\n",
      "\n",
      "====================\n",
      "O101200_varinstsizeTSP\n",
      "====================\n",
      "   cust_number   randommdp   classicrw         dqn     dqnprob      hybrid      vrwmdp\n",
      "0           20  396.375445  395.727634  381.033948  370.146860  371.032638  369.407715\n",
      "1           30  590.514235  592.938673  515.389061  496.111142  496.240579  498.089848\n",
      "2           40  771.553960  774.962807  680.997880  630.376385  630.968631  622.090047\n",
      "3           50  884.733063  874.653882  716.065742  672.357574  661.616747  653.143632\n",
      "\n",
      "====================\n",
      "C101200_varinstsizeCVRP\n",
      "====================\n",
      "   cust_number    randommdp    classicrw         dqn     dqnprob      hybrid      vrwmdp\n",
      "0           20   720.096670   720.933366  757.351856  719.439261  716.649458  714.328208\n",
      "1           30   790.164367   785.632702  752.486340  722.153874  718.228991  717.466645\n",
      "2           40  1014.886035  1015.738926  888.775038  854.913490  844.087148  842.830306\n",
      "3           50  1176.055115  1166.167775  892.792050  875.407865  858.899999  862.998750\n",
      "\n",
      "====================\n",
      "R101200_varinstsizeCVRP\n",
      "====================\n",
      "   cust_number    randommdp    classicrw          dqn      dqnprob      hybrid       vrwmdp\n",
      "0           20   712.013982   712.530815   737.538397   688.221846  679.980837   671.418403\n",
      "1           30   900.676546   897.752297   820.310382   776.899935  763.327008   761.939276\n",
      "2           40  1149.327359  1146.528659   945.585738   907.564403  886.195025   908.085654\n",
      "3           50  1368.930915  1367.077308  1022.324648  1006.846385  967.938842  1004.935795\n",
      "\n",
      "====================\n",
      "O101200_varinstsizeCVRP\n",
      "====================\n",
      "   cust_number    randommdp    classicrw          dqn      dqnprob       hybrid       vrwmdp\n",
      "0           20  1055.809914  1054.079940  1049.241853  1010.197359  1009.296058  1029.092632\n",
      "1           30  1244.281844  1244.226317  1184.350889  1124.186949  1113.066498  1161.448102\n",
      "2           40  1445.056222  1443.961572  1326.500573  1236.144553  1212.075807  1251.656328\n",
      "3           50  1609.820723  1594.709210  1322.152048  1249.517767  1167.048804  1195.891760\n",
      "\n",
      "====================\n",
      "C101200_varinstsizeVRPTW\n",
      "====================\n",
      "   cust_number    randommdp    classicrw          dqn      dqnprob       hybrid       vrwmdp\n",
      "0           20  1017.119933  1017.046590  1094.646413  1014.141380  1008.244802  1001.184361\n",
      "1           30  1152.698376  1144.685035  1087.775842  1030.809553  1014.275042  1027.628249\n",
      "2           40  1458.841450  1465.262641  1234.676957  1211.517580  1178.252122  1211.692005\n",
      "3           50  1801.947166  1796.623916  1374.813665  1408.726287  1357.690215  1403.605933\n",
      "\n",
      "====================\n",
      "R101200_varinstsizeVRPTW\n",
      "====================\n",
      "   cust_number    randommdp    classicrw          dqn      dqnprob       hybrid       vrwmdp\n",
      "0           20   791.811448   797.132239   811.674291   757.297090   749.874067   741.186293\n",
      "1           30  1077.362706  1070.974604  1016.675968   936.729077   921.700478   919.230376\n",
      "2           40  1407.214800  1414.929012  1290.314617  1205.824244  1189.564732  1179.029643\n",
      "3           50  1724.364294  1721.593181  1507.373031  1430.393104  1406.511575  1384.854405\n",
      "\n",
      "====================\n",
      "O101200_varinstsizeVRPTW\n",
      "====================\n",
      "   cust_number    randommdp    classicrw          dqn      dqnprob       hybrid       vrwmdp\n",
      "0           20  1109.748212  1108.194520  1089.653580  1056.976011  1053.183352  1070.889861\n",
      "1           30  1319.177824  1317.013791  1245.636643  1180.516409  1166.370935  1193.185311\n",
      "2           40  1593.309623  1589.979980  1419.141700  1304.131012  1254.531925  1292.921693\n",
      "3           50  1869.085981  1863.743749  1478.897856  1389.457365  1301.391598  1365.418173\n",
      "\n",
      "====================\n",
      "C101200_varinstsizeHVRP\n",
      "====================\n",
      "   cust_number    randommdp    classicrw         dqn     dqnprob      hybrid      vrwmdp\n",
      "0           20   637.923446   637.346832  669.744064  609.024085  606.297040  599.338010\n",
      "1           30   771.547543   769.606888  702.289291  650.993852  638.706787  648.946548\n",
      "2           40  1004.836526  1006.079062  865.212332  806.892653  791.578933  798.781378\n",
      "3           50  1176.650289  1166.638992  853.185307  834.494560  803.161078  839.787584\n",
      "\n",
      "====================\n",
      "R101200_varinstsizeHVRP\n",
      "====================\n",
      "   cust_number    randommdp    classicrw         dqn     dqnprob      hybrid      vrwmdp\n",
      "0           20   688.794504   690.160970  681.968942  625.379572  619.602893  625.993112\n",
      "1           30   896.519266   892.309625  773.892457  731.101738  717.352843  744.774915\n",
      "2           40  1140.981082  1146.378480  923.573275  888.933888  874.947361  899.647565\n",
      "3           50  1372.998733  1363.301260  996.087847  984.206229  951.913946  999.279840\n",
      "\n",
      "====================\n",
      "O101200_varinstsizeHVRP\n",
      "====================\n",
      "   cust_number    randommdp    classicrw          dqn      dqnprob       hybrid       vrwmdp\n",
      "0           20   856.877641   852.798084   935.733702   840.205182   825.210477   800.837157\n",
      "1           30  1155.296334  1155.339437  1159.199621  1047.992557  1026.367451  1027.654124\n",
      "2           40  1389.405111  1396.905725  1271.847681  1169.790387  1132.974998  1141.376148\n",
      "3           50  1594.344467  1582.940146  1250.057117  1209.330308  1154.944868  1170.396287\n",
      "\n",
      "====================\n",
      "C101200_varinstsizeLRP\n",
      "====================\n",
      "   cust_number    randommdp    classicrw          dqn      dqnprob       hybrid       vrwmdp\n",
      "0           20  1978.310570  1972.437188  1977.089485  1927.030309  1930.829445  1931.440801\n",
      "1           30  2249.734195  2260.635196  2012.438015  1972.394606  1972.739272  2003.727898\n",
      "2           40  2677.834537  2686.093316  2196.458473  2138.817770  2138.077872  2202.229587\n",
      "3           50  3086.994970  3056.301197  2216.004998  2184.882543  2171.888116  2282.143556\n",
      "\n",
      "====================\n",
      "R101200_varinstsizeLRP\n",
      "====================\n",
      "   cust_number    randommdp    classicrw          dqn      dqnprob       hybrid       vrwmdp\n",
      "0           20  1911.393345  1910.551140  1829.564417  1768.065470  1763.593381  1774.980784\n",
      "1           30  2313.092830  2325.377074  1906.490364  1856.896694  1855.186406  1916.808399\n",
      "2           40  2719.462980  2724.542749  2034.472418  1995.802350  1985.566682  2118.096933\n",
      "3           50  3162.710192  3120.488202  2122.269916  2129.921333  2092.957772  2274.083221\n",
      "\n",
      "====================\n",
      "O101200_varinstsizeLRP\n",
      "====================\n",
      "   cust_number    randommdp    classicrw          dqn      dqnprob       hybrid       vrwmdp\n",
      "0           20  2470.766572  2466.403104  2419.857041  2393.388898  2396.895745  2441.574415\n",
      "1           30  2845.887354  2837.511495  2629.606742  2571.617024  2556.443932  2678.396218\n",
      "2           40  3178.966294  3210.585760  2816.204834  2777.539728  2771.079492  2816.197111\n",
      "3           50  3550.851322  3519.147144  2605.237402  2595.530267  2546.266348  2665.870776\n",
      "\n"
     ]
    }
   ],
   "source": [
    "for exp_id in all_exp_ids:\n",
    "    print(\"=\" * 20)\n",
    "    print(exp_id)\n",
    "    print(\"=\" * 20)\n",
    "    fp_in = FilePaths(parent_dir, exp_id, setup_directories=False)\n",
    "    storage = EvaluationStorage(fp_in)\n",
    "    # print(storage.retrieve_optimal_hyperparams(exp_id, False, task_type=\"tune\", fp_in=fp_in))\n",
    "    results_table = get_results_table(storage, exp_id)\n",
    "\n",
    "    pd.set_option('display.max_columns', None)\n",
    "    pd.set_option('display.width', 1000)\n",
    "    print(results_table)\n",
    "    print()"
   ]
  },
  {
   "cell_type": "code",
   "execution_count": 89,
   "metadata": {
    "collapsed": false,
    "pycharm": {
     "name": "#%%\n"
    }
   },
   "outputs": [],
   "source": [
    "all_dfs = []\n",
    "for exp_id in all_exp_ids:\n",
    "    fp_in = FilePaths(parent_dir, exp_id, setup_directories=False)\n",
    "    storage = EvaluationStorage(fp_in)\n",
    "    # print(storage.retrieve_optimal_hyperparams(exp_id, False, task_type=\"tune\", fp_in=fp_in))\n",
    "    exp_df = get_results_table(storage, exp_id)\n",
    "    # print(storage.get_experiment_details(exp_id))\n",
    "    details = storage.get_experiment_details(exp_id)\n",
    "    exp_df['variant'] = details['problem_variant']\n",
    "    exp_df['inst'] = exp_id[0]\n",
    "    all_dfs.append(exp_df)\n",
    "\n",
    "df = pd.concat(all_dfs)\n"
   ]
  },
  {
   "cell_type": "code",
   "execution_count": 90,
   "metadata": {
    "collapsed": false,
    "pycharm": {
     "name": "#%%\n"
    }
   },
   "outputs": [
    {
     "name": "stdout",
     "output_type": "stream",
     "text": [
      "Winning rate of DQN-prob over DQN: 0.967\n",
      "Winning rate of Hybrid over DQN-prob: 0.867\n",
      "Winning rate of DQN over VRW: 0.167\n",
      "Winning rate of Hybrid over VRW: 0.633\n",
      "Winning rate of Classic RW over Random: 0.633\n",
      "Improvement in solution quality of DQN versus random operator selection: 10.388%\n",
      "Improvement in solution quality of DQN-prob versus random operator selection: 14.581%\n",
      "Improvement in solution quality of VRW versus random operator selection: 14.691%\n",
      "Improvement in solution quality of Hybrid versus random operator selection: 15.724%\n",
      "Improvement in solution quality of CRW versus random operator selection: 0.157%\n"
     ]
    }
   ],
   "source": [
    "def percentage_change(col1, col2):\n",
    "    return ((col2 - col1) / col1) * 100\n",
    "\n",
    "\n",
    "WR_dqnprob_dqn = (df[\"dqnprob\"] < df[\"dqn\"]).sum() / len(df)\n",
    "print(f\"Winning rate of DQN-prob over DQN: {WR_dqnprob_dqn:.3f}\")\n",
    "\n",
    "WR_hybrid_dqnprob = (df[\"hybrid\"] < df[\"dqnprob\"]).sum() / len(df)\n",
    "print(f\"Winning rate of Hybrid over DQN-prob: {WR_hybrid_dqnprob:.3f}\")\n",
    "\n",
    "WR_dqn_vrw = (df[\"dqn\"] < df[\"vrwmdp\"]).sum() / len(df)\n",
    "print(f\"Winning rate of DQN over VRW: {WR_dqn_vrw:.3f}\")\n",
    "WR_hybrid_vrw = (df[\"hybrid\"] < df[\"vrwmdp\"]).sum() / len(df)\n",
    "print(f\"Winning rate of Hybrid over VRW: {WR_hybrid_vrw:.3f}\")\n",
    "\n",
    "WR_crw_random = (df[\"classicrw\"] < df[\"randommdp\"]).sum() / len(df)\n",
    "print(f\"Winning rate of Classic RW over Random: {WR_hybrid_vrw:.3f}\")\n",
    "\n",
    "\n",
    "PC_rand_dqn = -percentage_change(df[\"randommdp\"], df[\"dqn\"]).mean()\n",
    "print(f\"Improvement in solution quality of DQN versus random operator selection: {PC_rand_dqn:.3f}%\")\n",
    "\n",
    "PC_rand_dqnprob = -percentage_change(df[\"randommdp\"], df[\"dqnprob\"]).mean()\n",
    "print(f\"Improvement in solution quality of DQN-prob versus random operator selection: {PC_rand_dqnprob:.3f}%\")\n",
    "\n",
    "PC_rand_vrw = -percentage_change(df[\"randommdp\"], df[\"vrwmdp\"]).mean()\n",
    "print(f\"Improvement in solution quality of VRW versus random operator selection: {PC_rand_vrw:.3f}%\")\n",
    "\n",
    "PC_rand_hybrid = -percentage_change(df[\"randommdp\"], df[\"hybrid\"]).mean()\n",
    "print(f\"Improvement in solution quality of Hybrid versus random operator selection: {PC_rand_hybrid:.3f}%\")\n",
    "\n",
    "PC_rand_crw = -percentage_change(df[\"randommdp\"], df[\"classicrw\"]).mean()\n",
    "print(f\"Improvement in solution quality of CRW versus random operator selection: {PC_rand_crw:.3f}%\")\n",
    "\n",
    "# PC_hybrid_vrw = -percentage_change(df[\"vrwmdp\"], df[\"hybrid\"]).mean()\n",
    "# print(f\"Improvement in solution quality of Hybrid versus VRW: {PC_hybrid_vrw:.3f}%\")"
   ]
  },
  {
   "cell_type": "code",
   "execution_count": 91,
   "metadata": {
    "collapsed": false,
    "pycharm": {
     "name": "#%%\n"
    }
   },
   "outputs": [
    {
     "data": {
      "text/plain": [
       "0.8666666666666667"
      ]
     },
     "execution_count": 91,
     "metadata": {},
     "output_type": "execute_result"
    }
   ],
   "source": [
    "WR_hybrid_dqnprob"
   ]
  },
  {
   "cell_type": "markdown",
   "metadata": {
    "collapsed": false,
    "pycharm": {
     "name": "#%% md\n"
    }
   },
   "source": []
  }
 ],
 "metadata": {
  "kernelspec": {
   "display_name": "Python 3.8.5 64-bit",
   "language": "python",
   "name": "python3"
  },
  "language_info": {
   "codemirror_mode": {
    "name": "ipython",
    "version": 3
   },
   "file_extension": ".py",
   "mimetype": "text/x-python",
   "name": "python",
   "nbconvert_exporter": "python",
   "pygments_lexer": "ipython3",
   "version": "3.8.5"
  },
  "vscode": {
   "interpreter": {
    "hash": "0adcc2737ebf6a4a119f135174df96668767fca1ef1112612db5ecadf2b6d608"
   }
  }
 },
 "nbformat": 4,
 "nbformat_minor": 0
}
