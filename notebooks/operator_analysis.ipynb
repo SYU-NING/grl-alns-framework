{
 "cells": [
  {
   "cell_type": "code",
   "metadata": {
    "collapsed": true,
    "pycharm": {
     "name": "#%%\n"
    }
   },
   "source": [
    "import os\n",
    "import sys\n",
    "module_path = os.path.abspath(os.path.join('..'))\n",
    "if module_path not in sys.path:\n",
    "    sys.path.append(module_path)"
   ],
   "outputs": [],
   "execution_count": null
  },
  {
   "cell_type": "code",
   "metadata": {
    "collapsed": false,
    "pycharm": {
     "name": "#%%\n"
    }
   },
   "source": [
    "import pandas as pd\n",
    "import matplotlib.pyplot as plt\n",
    "import seaborn as sns\n",
    "import numpy as np\n",
    "import scipy as sp\n",
    "\n",
    "from pprint import pprint\n",
    "from experiment_storage.file_paths import FilePaths\n",
    "from experiment_storage.storage import EvaluationStorage\n",
    "\n",
    "# exp_id = \"default_moreops11s2\"\n",
    "#exp_id = \"R101200_moreops6s5\"\n",
    "# exp_id = \"C101200_moreops6s5\"\n",
    "\n",
    "exp_id = 'C101200_olaprimaryopcode2'\n",
    "\n",
    "#parent_dir = \"/Users/vdarvariu/experiment_data/ates\"\n",
    "parent_dir = '/Users/shunee/github/ATES2022/experiment_data'\n",
    "\n",
    "fp_in = FilePaths(parent_dir, exp_id, setup_directories=False)\n",
    "storage = EvaluationStorage(fp_in)\n",
    "\n",
    "fp_out = FilePaths(parent_dir, \"aggregate\", setup_directories=True)"
   ],
   "outputs": [],
   "execution_count": null
  },
  {
   "cell_type": "code",
   "metadata": {
    "collapsed": false,
    "pycharm": {
     "name": "#%%\n"
    }
   },
   "source": [
    "agent_of_interest = \"dqn_t0d01_sG\"\n",
    "# agent_of_interest = \"vrwmdp\"\n",
    "\n",
    "exp_details = storage.get_experiment_details(exp_id)\n",
    "# pprint(exp_details)\n",
    "\n",
    "obj_fun =  exp_details['objective_functions'][0]\n",
    "generator = exp_details['network_generators'][0]\n",
    "model_seeds = exp_details['experiment_conditions']['experiment_params']['model_seeds']\n",
    "\n",
    "test_tour_seeds = exp_details['experiment_conditions']['test_seeds']\n",
    "\n",
    "best_hyps = storage.retrieve_optimal_hyperparams(exp_id, False, fp_in)\n",
    "print(best_hyps)\n",
    "\n"
   ],
   "outputs": [],
   "execution_count": null
  },
  {
   "cell_type": "markdown",
   "metadata": {
    "collapsed": false,
    "pycharm": {
     "name": "#%% md\n"
    }
   },
   "source": [
    "## example for reading operators from ALNS records"
   ]
  },
  {
   "cell_type": "code",
   "metadata": {
    "collapsed": false,
    "pycharm": {
     "name": "#%%\n"
    }
   },
   "source": [
    "# for model_seed in model_seeds:\n",
    "#     try:\n",
    "#         best_hyps_id = best_hyps[generator, obj_fun, agent_of_interest.split(\"_\")[0]][1]\n",
    "#     except BaseException:\n",
    "#         best_hyps_id = '0'\n",
    "#\n",
    "#     model_prefix = FilePaths.construct_model_identifier_prefix(agent_of_interest, obj_fun, generator, model_seed, best_hyps_id)\n",
    "#\n",
    "#     records = storage.read_alns_records(model_prefix)\n",
    "#\n",
    "#     for tour_seed in test_tour_seeds:\n",
    "#         record = records[tour_seed]\n",
    "#         print(record['selected_operator'].tolist())\n",
    "#\n"
   ],
   "outputs": [],
   "execution_count": null
  },
  {
   "cell_type": "markdown",
   "metadata": {
    "collapsed": false,
    "pycharm": {
     "name": "#%% md\n"
    }
   },
   "source": [
    "## example for reading MDP agent logs"
   ]
  },
  {
   "cell_type": "code",
   "metadata": {
    "collapsed": false,
    "pycharm": {
     "name": "#%%\n"
    }
   },
   "source": [
    "agent_of_interest = \"dqn\"\n",
    "\n",
    "for model_seed in model_seeds:\n",
    "    try:\n",
    "        best_hyps_id = best_hyps[generator, obj_fun, agent_of_interest.split(\"_\")[0]][1]\n",
    "    except BaseException:\n",
    "        best_hyps_id = '0'\n",
    "\n",
    "    model_prefix = FilePaths.construct_model_identifier_prefix(agent_of_interest, obj_fun, generator, model_seed, best_hyps_id)\n",
    "    tracked_ops_file = FilePaths.construct_op_tracking_file_name(model_prefix)\n",
    "\n",
    "    ops_data = pd.read_csv(fp_in.op_tracking_dir / tracked_ops_file, sep=\",\")\n",
    "    print(ops_data)\n",
    "\n"
   ],
   "outputs": [],
   "execution_count": null
  },
  {
   "cell_type": "code",
   "metadata": {
    "pycharm": {
     "name": "#%%\n"
    }
   },
   "source": [],
   "outputs": [],
   "execution_count": null
  }
 ],
 "metadata": {
  "kernelspec": {
   "display_name": "Python 3.8.5 64-bit",
   "language": "python",
   "name": "python3"
  },
  "language_info": {
   "codemirror_mode": {
    "name": "ipython",
    "version": 3
   },
   "file_extension": ".py",
   "mimetype": "text/x-python",
   "name": "python",
   "nbconvert_exporter": "python",
   "pygments_lexer": "ipython3",
   "version": "3.8.5"
  },
  "vscode": {
   "interpreter": {
    "hash": "0adcc2737ebf6a4a119f135174df96668767fca1ef1112612db5ecadf2b6d608"
   }
  }
 },
 "nbformat": 4,
 "nbformat_minor": 0
}
