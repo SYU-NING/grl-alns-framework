{
 "cells": [
  {
   "cell_type": "code",
   "metadata": {
    "collapsed": true,
    "pycharm": {
     "name": "#%%\n"
    }
   },
   "source": [
    "import os\n",
    "import sys\n",
    "module_path = os.path.abspath(os.path.join('..'))\n",
    "if module_path not in sys.path:\n",
    "    sys.path.append(module_path)"
   ],
   "outputs": [],
   "execution_count": null
  },
  {
   "cell_type": "code",
   "source": [
    "import pandas as pd\n",
    "import matplotlib.pyplot as plt\n",
    "import seaborn as sns\n",
    "import numpy as np\n",
    "import scipy as sp\n",
    "\n",
    "from experiment_storage.file_paths import FilePaths\n",
    "from experiment_storage.storage import EvaluationStorage\n",
    "\n",
    "parent_dir = \"/Users/vdarvariu/experiment_data/ates\"\n",
    "# parent_dir = '/Users/shunee/github/ATES2022/experiment_data'\n",
    "\n",
    "instances = [\"C101200\", \"R101200\", \"O101200\"]\n",
    "which=\"olaoodgnntestincrscale\"\n",
    "# which=\"olaoodgnntestincrbudget\"\n",
    "\n",
    "train_size = 20\n",
    "test_sizes = [10, 20, 30, 40, 50, 60, 70, 80, 90, 100]\n",
    "exclude_seeds = []\n",
    "only_best_seed = False\n",
    "\n",
    "fp_out = FilePaths(parent_dir, 'aggregate', setup_directories=False)\n"
   ],
   "metadata": {
    "collapsed": false,
    "pycharm": {
     "name": "#%%\n"
    }
   },
   "outputs": [],
   "execution_count": null
  },
  {
   "cell_type": "code",
   "source": [
    "all_rows = []\n",
    "\n",
    "for instance in instances:\n",
    "    for test_size in test_sizes:\n",
    "        exp_id = f\"{instance}_{which}{test_size}\"\n",
    "        fp_in = FilePaths(parent_dir, exp_id, setup_directories=False)\n",
    "        storage = EvaluationStorage(fp_in)\n",
    "        results = storage.get_evaluation_data(exp_id)\n",
    "        results = [r for r in results if (r[\"is_best_hyps\"] and r[\"agent_seed\"] not in exclude_seeds)]\n",
    "        for r in results:\n",
    "            r['num_custs'] = test_size\n",
    "            r['instance'] = instance\n",
    "\n",
    "        all_rows.extend(results)\n"
   ],
   "metadata": {
    "collapsed": false,
    "pycharm": {
     "name": "#%%\n"
    }
   },
   "outputs": [],
   "execution_count": null
  },
  {
   "cell_type": "code",
   "source": [
    "gnn_df = pd.DataFrame(all_rows)\n",
    "if only_best_seed:\n",
    "    pivot = pd.pivot_table(gnn_df, values='cummulative_reward', columns=['algorithm'], index=['agent_seed'])\n",
    "    best_seeds = pivot.idxmax(axis=0)\n",
    "    algo_names = list(pivot.columns)\n",
    "    for algo_name in algo_names:\n",
    "        best_seed = best_seeds[algo_name]\n",
    "        gnn_df = gnn_df.drop(gnn_df[(gnn_df['algorithm'] == algo_name) & (gnn_df['agent_seed'] != best_seed)].index)\n"
   ],
   "metadata": {
    "collapsed": false,
    "pycharm": {
     "name": "#%%\n"
    }
   },
   "outputs": [],
   "execution_count": null
  },
  {
   "cell_type": "code",
   "source": [
    "gnn_df"
   ],
   "metadata": {
    "collapsed": false,
    "pycharm": {
     "name": "#%%\n"
    }
   },
   "outputs": [],
   "execution_count": null
  },
  {
   "cell_type": "code",
   "source": [
    "\n",
    "all_rows = []\n",
    "analysis_scales = [2,4,6,8,10]\n",
    "which_s = 'olascaleredone'\n",
    "\n",
    "for instance in instances:\n",
    "    for scale in analysis_scales:\n",
    "        exp_id = f\"{instance}_{which_s}{scale}\"\n",
    "        fp_in = FilePaths(parent_dir, exp_id, setup_directories=False)\n",
    "        storage = EvaluationStorage(fp_in)\n",
    "        results = storage.get_evaluation_data(exp_id)\n",
    "        results = [r for r in results if (r[\"is_best_hyps\"] and r[\"agent_seed\"] not in exclude_seeds)]\n",
    "        for r in results:\n",
    "            r['scale'] = scale\n",
    "            r['instance'] = instance\n",
    "\n",
    "        all_rows.extend(results)\n",
    "\n",
    "scale_df = pd.DataFrame(all_rows)\n"
   ],
   "metadata": {
    "collapsed": false,
    "pycharm": {
     "name": "#%%\n"
    }
   },
   "outputs": [],
   "execution_count": null
  },
  {
   "cell_type": "code",
   "source": [
    "scale_df"
   ],
   "metadata": {
    "collapsed": false,
    "pycharm": {
     "name": "#%%\n"
    }
   },
   "outputs": [],
   "execution_count": null
  },
  {
   "cell_type": "code",
   "source": [
    "import seaborn as sns\n",
    "import matplotlib as mpl\n",
    "import matplotlib.pyplot as plt\n",
    "\n",
    "font_scale=3.25\n",
    "sns.set(font_scale=font_scale)\n",
    "plt.rc('font', family='serif')\n",
    "mpl.rcParams['text.usetex'] = True\n",
    "mpl.rcParams[\"lines.linewidth\"] = 6\n",
    "\n",
    "dims = ((8.26 * 1.05) * len(instances), (2) * 8.26)\n",
    "\n",
    "fig, axes = plt.subplots(2, len(instances), squeeze=False, figsize=dims, sharex=\"row\", sharey=\"row\")\n",
    "\n",
    "inst_display={\"C101200\": \"Solomon C instance\", \"R101200\": \"Solomon R instance\", \"O101200\": \"Solomon RC instance\"}\n",
    "agent_display={\"dqn\": \"DQN\", \"vrwmdp\": \"LRW\", \"randommdp\": \"RAN\"}\n",
    "\n",
    "\n",
    "for i, plot_x in enumerate([\"num_custs\", \"scale\"]):\n",
    "    for j, inst_name in enumerate(instances):\n",
    "        ax = axes[i][j]\n",
    "\n",
    "        data_df = gnn_df if plot_x == \"num_custs\" else scale_df\n",
    "        data_df = data_df[data_df['instance'] == inst_name]\n",
    "\n",
    "        data_df.replace(agent_display, inplace=True)\n",
    "\n",
    "        sns.lineplot(data=data_df, x=plot_x, y=\"cummulative_reward\", hue='algorithm', ax=ax)\n",
    "\n",
    "        handles, labels = ax.get_legend_handles_labels()\n",
    "\n",
    "        if i == 0:\n",
    "            ax.set_xticks(list(range(10, 101, 10)))\n",
    "            ax.set_xlabel('Number of customers')\n",
    "        else:\n",
    "            ax.set_xticks([2,4,6,8,10])\n",
    "            ax.set_xlabel('Destroy scale')\n",
    "\n",
    "        if j == 0:\n",
    "            ax.set_ylabel(\"Cumulative reward\", fontsize=\"medium\")\n",
    "        else:\n",
    "            ax.set_ylabel(\"\")\n",
    "\n",
    "        if i==0:\n",
    "            ax.set_title(inst_display[inst_name])\n",
    "\n",
    "        if ax.legend_ is not None:\n",
    "            ax.legend_.remove()\n",
    "\n",
    "        if i == 1 and j == 2:\n",
    "            ax.legend(handles[0:], labels[0:], loc='lower right', fontsize=\"medium\")\n",
    "\n",
    "filename = (\"gnns_scale\" if which == \"olaoodgnntestincrscale\" else \"gnnb_scale\") + (\".pdf\" if not only_best_seed else \"_bestseed.pdf\")\n",
    "fig.tight_layout()\n",
    "plt.savefig(fp_out.figures_dir / filename, bbox_inches=\"tight\")"
   ],
   "metadata": {
    "collapsed": false,
    "pycharm": {
     "name": "#%%\n"
    }
   },
   "outputs": [],
   "execution_count": null
  },
  {
   "cell_type": "code",
   "source": [
    "from copy import deepcopy\n",
    "\n",
    "all_rows = []\n",
    "which_t = 'olascaleredone4'\n",
    "\n",
    "temp_dict ={\"t0d01\": 0.01,\n",
    "            \"t0d1\": 0.1,\n",
    "            \"t1\": 1,\n",
    "            \"t5\": 5,\n",
    "            \"t10\": 10,\n",
    "            \"t100\": 100\n",
    "            }\n",
    "\n",
    "for instance in instances:\n",
    "    exp_id = f\"{instance}_{which_t}\"\n",
    "    fp_in = FilePaths(parent_dir, exp_id, setup_directories=False)\n",
    "    storage = EvaluationStorage(fp_in)\n",
    "    results = storage.get_evaluation_data(exp_id, task_type=\"alns\")\n",
    "    proc_results = []\n",
    "    for r in results:\n",
    "        algo_name = r[\"algorithm\"]\n",
    "        if not algo_name.startswith(\"dqn\"):\n",
    "            continue\n",
    "\n",
    "        else:\n",
    "            temp_val = temp_dict[algo_name.split(\"_\")[1]]\n",
    "            rmin = {\"metric\": \"obj_min\", \"val\": r[\"obj_min\"], \"temperature\": temp_val}\n",
    "            ravg = {\"metric\": \"obj_avg\", \"val\": r[\"obj_avg\"], \"temperature\": temp_val}\n",
    "\n",
    "\n",
    "        proc_results.append(rmin)\n",
    "        proc_results.append(ravg)\n",
    "\n",
    "    # for r in results:\n",
    "    #     r['instance'] = instance\n",
    "\n",
    "    all_rows.extend(proc_results)\n",
    "\n",
    "temp_df = pd.DataFrame(all_rows)\n",
    "\n"
   ],
   "metadata": {
    "collapsed": false,
    "pycharm": {
     "name": "#%%\n"
    }
   },
   "outputs": [],
   "execution_count": null
  },
  {
   "cell_type": "code",
   "source": [
    "temp_df"
   ],
   "metadata": {
    "collapsed": false,
    "pycharm": {
     "name": "#%%\n"
    }
   },
   "outputs": [],
   "execution_count": null
  },
  {
   "cell_type": "code",
   "source": [
    "dims = ((8.26 * 1.05), (0.9) * 8.26)\n",
    "metric_display={\"obj_min\": \"min($F$)\", \"obj_avg\": \"avg($F$)\"}\n",
    "temp_df.replace(metric_display, inplace=True)\n",
    "\n",
    "fig, axes = plt.subplots(1, 1, squeeze=False, figsize=dims, sharex=\"row\", sharey=\"row\")\n",
    "ax = axes[0][0]\n",
    "ax.set_xscale('symlog')\n",
    "sns.lineplot(data=temp_df, x=\"temperature\", y=\"val\", ax=ax, palette=\"flare\", hue=\"metric\")\n",
    "handles, labels = ax.get_legend_handles_labels()\n",
    "\n",
    "ax.set_xlabel(\"DQN temperature $\\\\tau$\")\n",
    "ax.set_ylabel(\"\")\n",
    "ax.set_ylim([100, 315])\n",
    "\n",
    "if ax.legend_ is not None:\n",
    "    ax.legend_.remove()\n",
    "\n",
    "ax.legend(handles[0:], labels[0:], loc='lower right', fontsize=\"small\")\n",
    "filename=\"dqn_temp.pdf\"\n",
    "fig.tight_layout()\n",
    "plt.savefig(fp_out.figures_dir / filename, bbox_inches=\"tight\")"
   ],
   "metadata": {
    "collapsed": false,
    "pycharm": {
     "name": "#%%\n"
    }
   },
   "outputs": [],
   "execution_count": null
  }
 ],
 "metadata": {
  "kernelspec": {
   "display_name": "Python 3",
   "language": "python",
   "name": "python3"
  },
  "language_info": {
   "codemirror_mode": {
    "name": "ipython",
    "version": 2
   },
   "file_extension": ".py",
   "mimetype": "text/x-python",
   "name": "python",
   "nbconvert_exporter": "python",
   "pygments_lexer": "ipython2",
   "version": "2.7.6"
  }
 },
 "nbformat": 4,
 "nbformat_minor": 0
}
