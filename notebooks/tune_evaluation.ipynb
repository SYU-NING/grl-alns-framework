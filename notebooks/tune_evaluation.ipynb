{
 "cells": [
  {
   "cell_type": "code",
   "source": [
    "#import os\n",
    "#import sys\n",
    "#from pathlib import Path\n",
    "#sys.path.append(str(Path(__file__).parent.parent))\n"
   ],
   "metadata": {
    "collapsed": false,
    "pycharm": {
     "name": "#%%\n"
    }
   },
   "outputs": [],
   "execution_count": null
  },
  {
   "cell_type": "code",
   "source": [
    "import os\n",
    "import sys\n",
    "module_path = os.path.abspath(os.path.join('..'))\n",
    "if module_path not in sys.path:\n",
    "    sys.path.append(module_path)"
   ],
   "metadata": {
    "collapsed": false,
    "pycharm": {
     "name": "#%%\n"
    }
   },
   "outputs": [],
   "execution_count": null
  },
  {
   "cell_type": "code",
   "source": [
    "from alns.rl.hybrid_agent import HybridAgent\n",
    "import pandas as pd\n",
    "import matplotlib.pyplot as plt\n",
    "import seaborn as sns\n",
    "import numpy as np\n",
    "import scipy as sp\n",
    "\n",
    "from experiment_storage.file_paths import FilePaths\n",
    "from experiment_storage.storage import EvaluationStorage\n",
    "\n",
    "\n",
    "all_exp_ids = ['C101200_varinstsizeTSP', 'R101200_varinstsizeTSP', 'O101200_varinstsizeTSP',\n",
    "              'C101200_varinstsizeCVRP', 'R101200_varinstsizeCVRP', 'O101200_varinstsizeCVRP',\n",
    "              'C101200_varinstsizeVRPTW', 'R101200_varinstsizeVRPTW', 'O101200_varinstsizeVRPTW',\n",
    "              'C101200_varinstsizeHVRP', 'R101200_varinstsizeHVRP', 'O101200_varinstsizeHVRP',\n",
    "              'C101200_varinstsizeLRP', 'R101200_varinstsizeLRP', 'O101200_varinstsizeLRP']\n",
    "\n",
    "# all_exp_ids = ['O101200_varinstsizeTSP',\n",
    "#               'O101200_varinstsizeCVRP',\n",
    "#               'O101200_varinstsizeVRPTW',\n",
    "#               'O101200_varinstsizeHVRP',\n",
    "#               'O101200_varinstsizeLRP']\n",
    "\n",
    "parent_dir = \"/Users/vdarvariu/experiment_data/ates\"\n",
    "#parent_dir = '/Users/shunee/github/ATES2022/experiment_data'\n",
    "\n",
    "fp_out = FilePaths(parent_dir, \"aggregate\", setup_directories=True)\n",
    "\n",
    "# filter_agent = [HybridAgent.algorithm_name]\n",
    "filter_agent = None\n"
   ],
   "metadata": {
    "collapsed": false,
    "pycharm": {
     "name": "#%%\n"
    }
   },
   "outputs": [],
   "execution_count": null
  },
  {
   "cell_type": "markdown",
   "source": [
    "# Final test set results"
   ],
   "metadata": {
    "collapsed": false,
    "pycharm": {
     "name": "#%% md\n"
    }
   }
  },
  {
   "cell_type": "code",
   "source": [
    "import seaborn as sns\n",
    "import matplotlib.pyplot as plt\n",
    "\n",
    "for exp_id in all_exp_ids:\n",
    "    fp_in = FilePaths(parent_dir, exp_id, setup_directories=False)\n",
    "    storage = EvaluationStorage(fp_in)\n",
    "    param_spaces, df = storage.get_hyperparameter_optimisation_data(exp_id, False, task_type=\"tune\", fp_in=fp_in)\n",
    "    df = df.drop(columns=[\"network_generator\", \"objective_function\", \"graph_id\"])\n",
    "    df = df.drop(df[df.agent_name != \"dqnprob\"].index)\n",
    "\n",
    "    df['temp'] = df['hyperparams_id'].apply(lambda x: param_spaces[\"total_objective\"][\"dqnprob\"][str(x)][\"alns_temp\"])\n",
    "\n",
    "    sns.set(font_scale=2.5)\n",
    "    plt.rcParams[\"lines.linewidth\"] = 4\n",
    "    plt.rc('font', family='serif')\n",
    "\n",
    "    fig, ax = plt.subplots(1, 1, squeeze=True, figsize=(10,10))\n",
    "    # ax.set_xscale('log')\n",
    "    sns.lineplot(data=df, x=\"temp\", y=\"avg_perf\", ax=ax)\n",
    "\n",
    "    maxes = (df.groupby([\"temp\"])[\"avg_perf\"].max())\n",
    "    maxes_x = maxes.index.tolist()\n",
    "    maxes_y = maxes.values\n",
    "    ax.scatter(maxes_x, maxes_y)\n",
    "\n",
    "    plt.savefig(fp_out.figures_dir / f\"tune_{exp_id}.pdf\", bbox_inches=\"tight\")\n",
    "    ax.set_title(exp_id)\n",
    "    # print(param_spaces)\n",
    "\n"
   ],
   "metadata": {
    "collapsed": false,
    "pycharm": {
     "name": "#%%\n"
    }
   },
   "outputs": [],
   "execution_count": null
  },
  {
   "cell_type": "code",
   "source": [],
   "metadata": {
    "collapsed": false,
    "pycharm": {
     "name": "#%%\n"
    }
   },
   "outputs": [],
   "execution_count": null
  },
  {
   "cell_type": "markdown",
   "source": [],
   "metadata": {
    "collapsed": false,
    "pycharm": {
     "name": "#%% md\n"
    }
   }
  },
  {
   "cell_type": "markdown",
   "source": [],
   "metadata": {
    "collapsed": false,
    "pycharm": {
     "name": "#%% md\n"
    }
   }
  }
 ],
 "metadata": {
  "kernelspec": {
   "display_name": "Python 3.8.5 64-bit",
   "language": "python",
   "name": "python3"
  },
  "language_info": {
   "codemirror_mode": {
    "name": "ipython",
    "version": 3
   },
   "file_extension": ".py",
   "mimetype": "text/x-python",
   "name": "python",
   "nbconvert_exporter": "python",
   "pygments_lexer": "ipython3",
   "version": "3.8.5"
  },
  "vscode": {
   "interpreter": {
    "hash": "0adcc2737ebf6a4a119f135174df96668767fca1ef1112612db5ecadf2b6d608"
   }
  }
 },
 "nbformat": 4,
 "nbformat_minor": 0
}
