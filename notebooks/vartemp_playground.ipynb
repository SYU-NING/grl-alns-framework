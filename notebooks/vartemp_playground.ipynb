{
 "cells": [
  {
   "cell_type": "code",
   "metadata": {
    "collapsed": true,
    "pycharm": {
     "name": "#%%\n"
    }
   },
   "source": [
    "import math\n",
    "import pandas as pd\n",
    "import seaborn as sns\n",
    "import matplotlib.pyplot as plt\n",
    "import numpy as np\n",
    "import scipy as sp\n",
    "\n",
    "from experiment_storage.file_paths import FilePaths\n",
    "\n",
    "\n",
    "parent_dir = \"/Users/vdarvariu/experiment_data/ates\"\n",
    "# parent_dir = '/Users/shunee/github/ATES2022/experiment_data'\n",
    "fp_out = FilePaths(parent_dir, 'aggregate', setup_directories=False)\n",
    "\n",
    "def get_temperature_at_search_step(step, mdp_operator_budget, growth_param):\n",
    "    max_temp = 100\n",
    "    temp_eps = 0.001\n",
    "\n",
    "    if step < mdp_operator_budget:\n",
    "        return temp_eps\n",
    "\n",
    "\n",
    "    y = 1 / (1 + math.exp(-(growth_param) * (step - mdp_operator_budget))) - 0.5 + temp_eps\n",
    "    y_scaled = y * (2 * max_temp)\n",
    "\n",
    "    return y_scaled"
   ],
   "outputs": [],
   "execution_count": null
  },
  {
   "cell_type": "code",
   "source": [
    "mdp_operator_budget = 20\n",
    "alns_total_steps = 100\n",
    "\n",
    "get_temperature_at_search_step(20, mdp_operator_budget, 0.05)"
   ],
   "metadata": {
    "collapsed": false,
    "pycharm": {
     "name": "#%%\n"
    }
   },
   "outputs": [],
   "execution_count": null
  },
  {
   "cell_type": "code",
   "source": [
    "df_rows = []\n",
    "g_params = [0.01, 0.025, 0.05, 0.1, 0.25, 0.5, 1, 2.5] # 100\n",
    "\n",
    "for growth_param in g_params:\n",
    "    for search_step in range(1, alns_total_steps + 1):\n",
    "        temp = get_temperature_at_search_step(search_step, mdp_operator_budget, growth_param)\n",
    "        df_rows.append({\"search_step\": search_step, \"temp\": temp, \"growth_param\": str(growth_param)})\n",
    "\n",
    "df = pd.DataFrame(df_rows)"
   ],
   "metadata": {
    "collapsed": false,
    "pycharm": {
     "name": "#%%\n"
    }
   },
   "outputs": [],
   "execution_count": null
  },
  {
   "cell_type": "code",
   "source": [
    "sns.set(font_scale=2.5)\n",
    "plt.rcParams[\"lines.linewidth\"] = 4\n",
    "plt.rc('font', family='serif')\n",
    "\n",
    "fig, ax = plt.subplots(1, 1, squeeze=True, figsize=(10,10))\n",
    "sns.lineplot(data=df, x=\"search_step\", y=\"temp\", hue=\"growth_param\", ax=ax)\n",
    "plt.savefig(fp_out.figures_dir / \"adaptivetemp.pdf\", bbox_inches=\"tight\")"
   ],
   "metadata": {
    "collapsed": false,
    "pycharm": {
     "name": "#%%\n"
    }
   },
   "outputs": [],
   "execution_count": null
  }
 ],
 "metadata": {
  "kernelspec": {
   "display_name": "Python 3",
   "language": "python",
   "name": "python3"
  },
  "language_info": {
   "codemirror_mode": {
    "name": "ipython",
    "version": 2
   },
   "file_extension": ".py",
   "mimetype": "text/x-python",
   "name": "python",
   "nbconvert_exporter": "python",
   "pygments_lexer": "ipython2",
   "version": "2.7.6"
  }
 },
 "nbformat": 4,
 "nbformat_minor": 0
}
