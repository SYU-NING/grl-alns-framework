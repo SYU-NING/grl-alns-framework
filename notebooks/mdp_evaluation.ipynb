{
 "cells": [
  {
   "cell_type": "code",
   "metadata": {
    "collapsed": true,
    "pycharm": {
     "name": "#%%\n"
    }
   },
   "source": [
    "import os\n",
    "import sys\n",
    "module_path = os.path.abspath(os.path.join('..'))\n",
    "if module_path not in sys.path:\n",
    "    sys.path.append(module_path)"
   ],
   "outputs": [],
   "execution_count": null
  },
  {
   "cell_type": "code",
   "metadata": {
    "collapsed": false,
    "pycharm": {
     "name": "#%%\n"
    }
   },
   "source": [
    "import pandas as pd\n",
    "import matplotlib.pyplot as plt\n",
    "import seaborn as sns\n",
    "import numpy as np\n",
    "import scipy as sp\n",
    "\n",
    "from experiment_storage.file_paths import FilePaths\n",
    "from experiment_storage.storage import EvaluationStorage\n",
    "\n",
    "# all_exp_ids = ['C101200_varinstsizeTSP', 'R101200_varinstsizeTSP', 'O101200_varinstsizeTSP',\n",
    "#               'C101200_varinstsizeCVRP', 'R101200_varinstsizeCVRP', 'O101200_varinstsizeCVRP',\n",
    "#               'C101200_varinstsizeVRPTW', 'R101200_varinstsizeVRPTW', 'O101200_varinstsizeVRPTW',\n",
    "#               'C101200_varinstsizeHVRP', 'R101200_varinstsizeHVRP', 'O101200_varinstsizeHVRP',\n",
    "#               'C101200_varinstsizeLRP', 'R101200_varinstsizeLRP', 'O101200_varinstsizeLRP']\n",
    "\n",
    "\n",
    "# experiment result analysis 2023-7-24:\n",
    "all_exp_ids = ['O101200_diffinitcwnoiseTSP', 'O101200_diffinitcwnoiseCVRP', 'O101200_diffinitcwnoiseHVRP', 'O101200_diffinitcwnoiseVRPTW', 'O101200_diffinitcwnoiseLRP',\n",
    "               'O101200_diffinitrandTSP', 'O101200_diffinitrandCVRP', 'O101200_diffinitrandHVRP', 'O101200_diffinitrandVRPTW', 'O101200_diffinitrandLRP']\n",
    "\n",
    "\n",
    "# parent_dir = \"/Users/vdarvariu/experiment_data/ates\"\n",
    "# parent_dir = '/Users/shunee/github/ATES2022/experiment_data'\n",
    "parent_dir = '/Users/shunee/github/ATES2022/all_variants_proportional_tours'\n",
    "\n",
    "fp_out = FilePaths(parent_dir, 'aggregate', setup_directories=False)\n"
   ],
   "outputs": [],
   "execution_count": null
  },
  {
   "cell_type": "markdown",
   "metadata": {
    "collapsed": false,
    "pycharm": {
     "name": "#%% md\n"
    }
   },
   "source": [
    "# Final test set results"
   ]
  },
  {
   "cell_type": "code",
   "metadata": {},
   "source": [
    "def compute_ci(data, confidence=0.95):\n",
    "    print(data)\n",
    "    a = np.array(data)\n",
    "    n = len(a)\n",
    "    se = sp.stats.sem(a)\n",
    "    h = se * sp.stats.t.ppf((1 + confidence) / 2., n-1)\n",
    "    return h\n",
    "\n",
    "def get_results_table(storage, exp_id):\n",
    "    results = storage.get_evaluation_data(exp_id)\n",
    "    results = [r for r in results if r[\"is_best_hyps\"]]\n",
    "    rows_df = pd.DataFrame(results)\n",
    "    pivot = pd.pivot_table(rows_df, values='cummulative_reward', columns=[\"algorithm\"])\n",
    "\n",
    "    format_ci_dict = {}\n",
    "\n",
    "    for agent_name in storage.get_experiment_details(exp_id)[\"agents\"]:\n",
    "        print(agent_name)\n",
    "        cis = compute_ci(rows_df[rows_df[\"algorithm\"] == agent_name][\"cummulative_reward\"])\n",
    "        pivot[agent_name + \"_ci\"] = cis\n",
    "        format_ci_dict[agent_name + \"_ci\"] = (lambda x: \"±{:.3f}\".format(abs(x)))\n",
    "\n",
    "    #print(pivot)\n",
    "    #pivot.style.format(\"{:.3f}\").format(format_ci_dict)\n",
    "\n",
    "    return pivot\n",
    "\n",
    "for exp_id in all_exp_ids:\n",
    "    print(\"=\" * 20)\n",
    "    print(exp_id)\n",
    "    print(\"=\" * 20)\n",
    "    fp_in = FilePaths(parent_dir, exp_id, setup_directories=False)\n",
    "    storage = EvaluationStorage(fp_in)\n",
    "    \n",
    "    results_table = get_results_table(storage, exp_id)\n",
    "\n",
    "    pd.set_option('display.max_columns', None)\n",
    "    pd.set_option('display.width', 1000)\n",
    "    print(results_table)\n",
    "    print()"
   ],
   "outputs": [],
   "execution_count": null
  },
  {
   "cell_type": "code",
   "metadata": {
    "collapsed": false,
    "pycharm": {
     "name": "#%%\n"
    }
   },
   "source": [
    "def compute_ci(data, confidence=0.95):\n",
    "    a = np.array(data)\n",
    "    n = len(a)\n",
    "    se = sp.stats.sem(a)\n",
    "    h = se * sp.stats.t.ppf((1 + confidence) / 2., n-1)\n",
    "    return h\n",
    "\n",
    "def get_results_table(storage, exp_id):\n",
    "    results = storage.get_evaluation_data(exp_id)\n",
    "    results = [r for r in results if r[\"is_best_hyps\"]]\n",
    "    print(f\"results={results}\")\n",
    "    rows_df = pd.DataFrame(results)\n",
    "    print(rows_df)\n",
    "    pivot = pd.pivot_table(rows_df, values='cummulative_reward', columns=[\"algorithm\"], index=[\"cust_number\"]).reset_index()\n",
    "        #.drop(columns=[\"algorithm\"])\n",
    "\n",
    "    format_ci_dict = {}\n",
    "    exp_details = storage.get_experiment_details(exp_id)\n",
    "    print(exp_details)\n",
    "\n",
    "    for agent_name in exp_details[\"agents\"]:\n",
    "        if agent_name.startswith(\"dqnprob\") or agent_name.startswith(\"classicrw\"):\n",
    "            continue\n",
    "\n",
    "        cis_data = []\n",
    "        for cust_number in exp_details[\"experiment_conditions\"][\"num_customers_test\"]:\n",
    "            data = rows_df[(rows_df[\"algorithm\"] == agent_name) & (rows_df[\"cust_number\"] == cust_number)][\"cummulative_reward\"]\n",
    "            # print(data)\n",
    "\n",
    "            cis = compute_ci(data)\n",
    "            # print(cis)\n",
    "            cis_data.append(cis)\n",
    "\n",
    "\n",
    "        srs = pd.Series(cis_data)\n",
    "        pivot[agent_name + \"_ci\"] = srs\n",
    "        pivot[\"win_dqn\"] = pivot[\"dqn\"] > pivot[\"vrwmdp\"]\n",
    "        pivot.sort_index(axis=1, inplace=True)\n",
    "\n",
    "    return pivot\n",
    "\n",
    "\n",
    "############################################################\n",
    "\n",
    "for exp_id in all_exp_ids:\n",
    "    print(\"=\" * 20)\n",
    "    print(exp_id)\n",
    "    print(\"=\" * 20)\n",
    "    fp_in = FilePaths(parent_dir, exp_id, setup_directories=False)\n",
    "    storage = EvaluationStorage(fp_in)\n",
    "\n",
    "    results_table = get_results_table(storage, exp_id)\n",
    "\n",
    "    pd.set_option('display.max_columns', None)\n",
    "    pd.set_option('display.width', 1000)\n",
    "    print(results_table)\n",
    "    print()"
   ],
   "outputs": [],
   "execution_count": null
  },
  {
   "cell_type": "markdown",
   "metadata": {
    "collapsed": false,
    "pycharm": {
     "name": "#%% md\n"
    }
   },
   "source": [
    "# Learning curves"
   ]
  },
  {
   "cell_type": "code",
   "metadata": {
    "collapsed": false,
    "pycharm": {
     "name": "#%%\n"
    }
   },
   "source": [
    "# from state.visualization import plot_eval_histories\n",
    "# from alns.rl.dqn.dqn_agent import DQNAgent\n",
    "#\n",
    "# separate_seeds = False\n",
    "# only_optimal = True\n",
    "#\n",
    "# lc_exp_ids = ['C101200_allopsTSP', 'R101200_allopsTSP', 'O101200_allopsTSP',\n",
    "#               'C101200_allopsCVRP', 'R101200_allopsCVRP', 'O101200_allopsCVRP',\n",
    "#               'C101200_allopsVRPTW', 'R101200_allopsVRPTW', 'O101200_allopsVRPTW',\n",
    "#               'C101200_allopsHVRP', 'R101200_allopsHVRP', 'O101200_allopsHVRP',\n",
    "#               'C101200_allopsLRP', 'R101200_allopsLRP', 'O101200_allopsLRP']\n",
    "#\n",
    "# for lc_exp_id in lc_exp_ids:\n",
    "#     fp_in = FilePaths(parent_dir, lc_exp_id, setup_directories=False)\n",
    "#     storage = EvaluationStorage(fp_in)\n",
    "#\n",
    "#\n",
    "#     experiment_details = storage.get_experiment_details(lc_exp_id)\n",
    "#     network_generators = experiment_details[\"network_generators\"]\n",
    "#     all_objectives = experiment_details[\"objective_functions\"]\n",
    "#     agent_name = DQNAgent.algorithm_name\n",
    "#     # agent_name = RouletteWheelMDPAgent.algorithm_name\n",
    "#\n",
    "#     optimal_hyps = storage.retrieve_optimal_hyperparams(lc_exp_id, False, fp_in=fp_in)\n",
    "#     # print(latest_experiment)\n",
    "#\n",
    "#     all_hyp_data = storage.get_grouped_hyp_data(lc_exp_id, False, fp_in=fp_in)[1]\n",
    "#\n",
    "#     for network_generator_name in network_generators:\n",
    "#         for obj_fun_name in all_objectives:\n",
    "#             hyp_data = all_hyp_data[obj_fun_name]\n",
    "#             opt_hyps_setting = optimal_hyps[(network_generator_name, obj_fun_name, agent_name)]\n",
    "#             optimal_hyps_id = int(opt_hyps_setting[1])\n",
    "#\n",
    "#             all_hyp_ids = [int(hid) for hid in hyp_data[agent_name].keys()]\n",
    "#             for hyp_id in all_hyp_ids:\n",
    "#\n",
    "#                 if only_optimal and optimal_hyps_id != hyp_id:\n",
    "#                     continue\n",
    "#\n",
    "#                 experiment_conditions = experiment_details['experiment_conditions']\n",
    "#                 steps_used = experiment_conditions['agent_budgets'][obj_fun_name][agent_name]\n",
    "#                 model_seeds = experiment_conditions['experiment_params']['model_seeds']\n",
    "#\n",
    "#                 data_df = storage.fetch_all_eval_curves(agent_name, hyp_id, fp_in, [obj_fun_name],\n",
    "#                                                                     [network_generator_name],\n",
    "#                                                                     model_seeds,\n",
    "#                                                                     train_individually=False,\n",
    "#                                                                 )\n",
    "#                 eval_plot_filename = f'{lc_exp_id}-eval_curves_{agent_name}-{hyp_id}{\"_OPT\" if hyp_id == optimal_hyps_id else \"\"}.pdf'\n",
    "#                 plot_eval_histories(data_df, fp_out.figures_dir / eval_plot_filename, separate_seeds=separate_seeds)"
   ],
   "outputs": [],
   "execution_count": null
  },
  {
   "cell_type": "markdown",
   "metadata": {
    "collapsed": false,
    "pycharm": {
     "name": "#%% md\n"
    }
   },
   "source": [
    "# Hyperparameter optimization data"
   ]
  },
  {
   "cell_type": "code",
   "metadata": {
    "collapsed": false,
    "pycharm": {
     "name": "#%%\n"
    }
   },
   "source": [
    "# non_hyp_cols = {\"avg_perf\", \"network_generator\", \"objective_function\"}\n",
    "# agent_hyperparam_dfs = {}\n",
    "#\n",
    "# for lc_exp_id in lc_exp_ids:\n",
    "#     fp_in = FilePaths(parent_dir, lc_exp_id, setup_directories=False)\n",
    "#     storage = EvaluationStorage(fp_in)\n",
    "#\n",
    "#     param_spaces, df = storage.get_hyperparameter_optimisation_data(lc_exp_id, train_individually=False, fp_in=fp_in)\n",
    "#     # print(df)\n",
    "#\n",
    "#     for network_generator_name in network_generators:\n",
    "#         for obj_fun_name in all_objectives:\n",
    "#             expanded_data = []\n",
    "#\n",
    "#             subset = df[(df['agent_name'] == agent_name)]\n",
    "#             subset.drop(columns=['agent_name'])\n",
    "#\n",
    "#             for idx, row in subset.iterrows():\n",
    "#                 row_copy = dict(row)\n",
    "#                 hyperparams_id = row['hyperparams_id']\n",
    "#                 hyperparams = param_spaces[obj_fun_name][agent_name][hyperparams_id]\n",
    "#                 row_copy.update(hyperparams)\n",
    "#                 expanded_data.append(row_copy)\n",
    "#\n",
    "#             hyp_df = pd.DataFrame(expanded_data).drop(columns=['hyperparams_id'])\n",
    "#             agent_hyperparam_dfs[agent_name] = hyp_df\n",
    "#\n",
    "#\n",
    "#     hyperparams_df = agent_hyperparam_dfs[agent_name]\n",
    "#     hyperparams_df.replace({False: 0, True: 1}, inplace=True)\n",
    "#\n",
    "#     for network_generator_name in network_generators:\n",
    "#         for obj_fun_name in all_objectives:\n",
    "#\n",
    "#             hyperparam_cols = list(set(hyperparams_df.columns) - non_hyp_cols)\n",
    "#             for hyperparam_name in hyperparam_cols:\n",
    "#                 if len(set(hyperparams_df[hyperparam_name])) < 2:\n",
    "#                     continue\n",
    "#\n",
    "#                 plt.figure()\n",
    "#                 title = f\"{agent_name}-{network_generator_name}-{obj_fun_name}-{hyperparam_name}-all\"\n",
    "#                 filename = f\"{lc_exp_id}-hyperparams-{title}.pdf\"\n",
    "#                 plt.title(title)\n",
    "#                 sns.lineplot(data=hyperparams_df, x=hyperparam_name, y=\"avg_perf\")\n",
    "#                 plt.savefig(fp_out.figures_dir / filename, bbox_inches='tight')\n",
    "#                 plt.close()"
   ],
   "outputs": [],
   "execution_count": null
  }
 ],
 "metadata": {
  "kernelspec": {
   "display_name": "Python 3.8.5 64-bit",
   "language": "python",
   "name": "python3"
  },
  "language_info": {
   "codemirror_mode": {
    "name": "ipython",
    "version": 3
   },
   "file_extension": ".py",
   "mimetype": "text/x-python",
   "name": "python",
   "nbconvert_exporter": "python",
   "pygments_lexer": "ipython3",
   "version": "3.8.5"
  },
  "vscode": {
   "interpreter": {
    "hash": "0adcc2737ebf6a4a119f135174df96668767fca1ef1112612db5ecadf2b6d608"
   }
  }
 },
 "nbformat": 4,
 "nbformat_minor": 0
}
